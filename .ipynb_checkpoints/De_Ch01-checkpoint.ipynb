{
 "cells": [
  {
   "cell_type": "code",
   "execution_count": 1,
   "metadata": {},
   "outputs": [],
   "source": [
    "# Deyou's note of learning the great book\n",
    "#  “Hands-On Machine Learning with Scikit-Learn, Keras, and TensorFlow, 2nd Edition, \n",
    "# by Aurélien Géron (O’Reilly). Copyright 2019 Aurélien Géron, 978-1-492-03264-9.” \n",
    "    "
   ]
  },
  {
   "cell_type": "code",
   "execution_count": 2,
   "metadata": {},
   "outputs": [],
   "source": [
    "import matplotlib.pyplot as plt\n",
    "import numpy as np\n",
    "import pandas as pd\n",
    "import sklearn.linear_model"
   ]
  },
  {
   "cell_type": "code",
   "execution_count": null,
   "metadata": {},
   "outputs": [],
   "source": []
  },
  {
   "cell_type": "code",
   "execution_count": 3,
   "metadata": {},
   "outputs": [],
   "source": [
    "# Load the data"
   ]
  },
  {
   "cell_type": "code",
   "execution_count": 4,
   "metadata": {},
   "outputs": [],
   "source": [
    "oecd_bli = pd.read_csv('datasets/lifesat/oecd_bli_2015.csv', thousands = ',')"
   ]
  },
  {
   "cell_type": "code",
   "execution_count": 5,
   "metadata": {},
   "outputs": [],
   "source": [
    "gdp_per_capita =  pd.read_csv('datasets/lifesat/gdp_per_capita.csv',\n",
    "                              thousands = ',', delimiter = '\\t',\n",
    "                              encoding = 'latin1', na_values = 'n/a')"
   ]
  },
  {
   "cell_type": "code",
   "execution_count": 6,
   "metadata": {},
   "outputs": [
    {
     "data": {
      "text/plain": [
       "(3292, 17)"
      ]
     },
     "execution_count": 6,
     "metadata": {},
     "output_type": "execute_result"
    }
   ],
   "source": [
    "oecd_bli.shape"
   ]
  },
  {
   "cell_type": "code",
   "execution_count": 7,
   "metadata": {},
   "outputs": [
    {
     "data": {
      "text/plain": [
       "Index(['LOCATION', 'Country', 'INDICATOR', 'Indicator', 'MEASURE', 'Measure',\n",
       "       'INEQUALITY', 'Inequality', 'Unit Code', 'Unit', 'PowerCode Code',\n",
       "       'PowerCode', 'Reference Period Code', 'Reference Period', 'Value',\n",
       "       'Flag Codes', 'Flags'],\n",
       "      dtype='object')"
      ]
     },
     "execution_count": 7,
     "metadata": {},
     "output_type": "execute_result"
    }
   ],
   "source": [
    "oecd_bli.columns"
   ]
  },
  {
   "cell_type": "code",
   "execution_count": 8,
   "metadata": {},
   "outputs": [
    {
     "data": {
      "text/plain": [
       "Index(['Country', 'Subject Descriptor', 'Units', 'Scale',\n",
       "       'Country/Series-specific Notes', '2015', 'Estimates Start After'],\n",
       "      dtype='object')"
      ]
     },
     "execution_count": 8,
     "metadata": {},
     "output_type": "execute_result"
    }
   ],
   "source": [
    "gdp_per_capita.columns"
   ]
  },
  {
   "cell_type": "code",
   "execution_count": 9,
   "metadata": {},
   "outputs": [
    {
     "data": {
      "text/plain": [
       "(190, 7)"
      ]
     },
     "execution_count": 9,
     "metadata": {},
     "output_type": "execute_result"
    }
   ],
   "source": [
    "gdp_per_capita.shape"
   ]
  },
  {
   "cell_type": "code",
   "execution_count": null,
   "metadata": {},
   "outputs": [],
   "source": []
  },
  {
   "cell_type": "code",
   "execution_count": 10,
   "metadata": {},
   "outputs": [
    {
     "name": "stdout",
     "output_type": "stream",
     "text": [
      "A (3292, 17) Index(['LOCATION', 'Country', 'INDICATOR', 'Indicator', 'MEASURE', 'Measure',\n",
      "       'INEQUALITY', 'Inequality', 'Unit Code', 'Unit', 'PowerCode Code',\n",
      "       'PowerCode', 'Reference Period Code', 'Reference Period', 'Value',\n",
      "       'Flag Codes', 'Flags'],\n",
      "      dtype='object')\n",
      "B (888, 17) Index(['LOCATION', 'Country', 'INDICATOR', 'Indicator', 'MEASURE', 'Measure',\n",
      "       'INEQUALITY', 'Inequality', 'Unit Code', 'Unit', 'PowerCode Code',\n",
      "       'PowerCode', 'Reference Period Code', 'Reference Period', 'Value',\n",
      "       'Flag Codes', 'Flags'],\n",
      "      dtype='object')\n",
      "C (37, 24) Index(['Air pollution', 'Assault rate', 'Consultation on rule-making',\n",
      "       'Dwellings without basic facilities', 'Educational attainment',\n",
      "       'Employees working very long hours', 'Employment rate', 'Homicide rate',\n",
      "       'Household net adjusted disposable income',\n",
      "       'Household net financial wealth', 'Housing expenditure', 'Job security',\n",
      "       'Life expectancy', 'Life satisfaction', 'Long-term unemployment rate',\n",
      "       'Personal earnings', 'Quality of support network', 'Rooms per person',\n",
      "       'Self-reported health', 'Student skills',\n",
      "       'Time devoted to leisure and personal care', 'Voter turnout',\n",
      "       'Water quality', 'Years in education'],\n",
      "      dtype='object', name='Indicator')\n",
      "D (190, 7) Index(['Country', 'Subject Descriptor', 'Units', 'Scale',\n",
      "       'Country/Series-specific Notes', '2015', 'Estimates Start After'],\n",
      "      dtype='object')\n",
      "E (190, 7) Index(['Country', 'Subject Descriptor', 'Units', 'Scale',\n",
      "       'Country/Series-specific Notes', 'GDP per capita',\n",
      "       'Estimates Start After'],\n",
      "      dtype='object')\n",
      "F (190, 6) Index(['Subject Descriptor', 'Units', 'Scale', 'Country/Series-specific Notes',\n",
      "       'GDP per capita', 'Estimates Start After'],\n",
      "      dtype='object')\n",
      "G (36, 30) Index(['Air pollution', 'Assault rate', 'Consultation on rule-making',\n",
      "       'Dwellings without basic facilities', 'Educational attainment',\n",
      "       'Employees working very long hours', 'Employment rate', 'Homicide rate',\n",
      "       'Household net adjusted disposable income',\n",
      "       'Household net financial wealth', 'Housing expenditure', 'Job security',\n",
      "       'Life expectancy', 'Life satisfaction', 'Long-term unemployment rate',\n",
      "       'Personal earnings', 'Quality of support network', 'Rooms per person',\n",
      "       'Self-reported health', 'Student skills',\n",
      "       'Time devoted to leisure and personal care', 'Voter turnout',\n",
      "       'Water quality', 'Years in education', 'Subject Descriptor', 'Units',\n",
      "       'Scale', 'Country/Series-specific Notes', 'GDP per capita',\n",
      "       'Estimates Start After'],\n",
      "      dtype='object')\n",
      "H (29, 2) Index(['GDP per capita', 'Life satisfaction'], dtype='object')\n"
     ]
    }
   ],
   "source": [
    "def prepare_country_stats(oecd_bli, gdp_per_capita):\n",
    "    print('A', oecd_bli.shape, oecd_bli.columns)  # (3292, 17) \n",
    "    oecd_bli = oecd_bli[oecd_bli[\"INEQUALITY\"]==\"TOT\"]\n",
    "    print('B', oecd_bli.shape, oecd_bli.columns)  # 样本少了，只有 888 个 17\n",
    "    oecd_bli = oecd_bli.pivot(index=\"Country\", columns=\"Indicator\", values=\"Value\")\n",
    "    # 这是一个pandas的透视功能。透完之后，形状成了 37 * 24，多了特征数，少了样本量。\n",
    "    print('C', oecd_bli.shape, oecd_bli.columns)  # (37, 24)\n",
    "    oecd_bli.to_csv('datasets/lifesat/oecd_bli_stepC.csv')\n",
    "    \n",
    "    print('D', gdp_per_capita.shape, gdp_per_capita.columns)  # 190 * 7\n",
    "    gdp_per_capita.rename(columns={\"2015\": \"GDP per capita\"}, inplace=True)\n",
    "    print('E', gdp_per_capita.shape, gdp_per_capita.columns)  # 与 D 2015 的列名就改成了...\n",
    "    gdp_per_capita.set_index(\"Country\", inplace=True)\n",
    "    print('F', gdp_per_capita.shape, gdp_per_capita.columns)  # 190 * 6， 少了一列。\n",
    "    \n",
    "    full_country_stats = pd.merge(left=oecd_bli, right=gdp_per_capita,\n",
    "                                  left_index=True, right_index=True)\n",
    "    print('G', full_country_stats.shape, full_country_stats.columns)  # (36, 30)\n",
    "    \n",
    "    full_country_stats.sort_values(by=\"GDP per capita\", inplace=True)\n",
    "    remove_indices = [0, 1, 6, 8, 33, 34, 35]\n",
    "    keep_indices = list(set(range(36)) - set(remove_indices))\n",
    "    res = full_country_stats[[\"GDP per capita\", 'Life satisfaction']].iloc[keep_indices]\n",
    "    print('H', res.shape, res.columns)  # (29, 2)\n",
    "    \n",
    "    # 这个预处理太复杂了，作者莫非有深意？\n",
    "    \n",
    "    return res\n",
    "country_stats = prepare_country_stats(oecd_bli, gdp_per_capita)"
   ]
  },
  {
   "cell_type": "code",
   "execution_count": 11,
   "metadata": {},
   "outputs": [],
   "source": [
    "# Prepare the data"
   ]
  },
  {
   "cell_type": "code",
   "execution_count": 12,
   "metadata": {},
   "outputs": [],
   "source": [
    "# country_stats = prepare_country_stats(oecd_bli, gdp_per_capita)"
   ]
  },
  {
   "cell_type": "code",
   "execution_count": 13,
   "metadata": {},
   "outputs": [],
   "source": [
    "X = np.c_[country_stats['GDP per capita']]\n",
    "y = np.c_[country_stats['Life satisfaction']]"
   ]
  },
  {
   "cell_type": "code",
   "execution_count": null,
   "metadata": {},
   "outputs": [],
   "source": []
  },
  {
   "cell_type": "code",
   "execution_count": 14,
   "metadata": {},
   "outputs": [],
   "source": [
    "# Visualize the data"
   ]
  },
  {
   "cell_type": "code",
   "execution_count": 15,
   "metadata": {},
   "outputs": [
    {
     "data": {
      "text/plain": [
       "<matplotlib.axes._subplots.AxesSubplot at 0x1a1e2b4310>"
      ]
     },
     "execution_count": 15,
     "metadata": {},
     "output_type": "execute_result"
    },
    {
     "data": {
      "image/png": "[encoded data removed]",
      "text/plain": [
       "<Figure size 432x288 with 1 Axes>"
      ]
     },
     "metadata": {
      "needs_background": "light"
     },
     "output_type": "display_data"
    }
   ],
   "source": [
    "country_stats.plot(kind = 'scatter', x = 'GDP per capita', y = 'Life satisfaction')"
   ]
  },
  {
   "cell_type": "code",
   "execution_count": 16,
   "metadata": {},
   "outputs": [],
   "source": [
    "plt.show()  # 在jupyter里，没有必要这一行命令。"
   ]
  },
  {
   "cell_type": "code",
   "execution_count": null,
   "metadata": {},
   "outputs": [],
   "source": []
  },
  {
   "cell_type": "code",
   "execution_count": 17,
   "metadata": {},
   "outputs": [],
   "source": [
    "# Select a linear model"
   ]
  },
  {
   "cell_type": "code",
   "execution_count": 18,
   "metadata": {},
   "outputs": [],
   "source": [
    "model = sklearn.linear_model.LinearRegression()"
   ]
  },
  {
   "cell_type": "code",
   "execution_count": 19,
   "metadata": {},
   "outputs": [],
   "source": [
    "# https://scikit-learn.org/stable/modules/generated/sklearn.linear_model.LinearRegression.html#sklearn.linear_model.LinearRegression\n"
   ]
  },
  {
   "cell_type": "code",
   "execution_count": 20,
   "metadata": {},
   "outputs": [],
   "source": [
    "# Train the model, so easy."
   ]
  },
  {
   "cell_type": "code",
   "execution_count": 21,
   "metadata": {},
   "outputs": [
    {
     "data": {
      "text/plain": [
       "LinearRegression(copy_X=True, fit_intercept=True, n_jobs=None, normalize=False)"
      ]
     },
     "execution_count": 21,
     "metadata": {},
     "output_type": "execute_result"
    }
   ],
   "source": [
    "model.fit(X, y)"
   ]
  },
  {
   "cell_type": "code",
   "execution_count": 22,
   "metadata": {},
   "outputs": [
    {
     "data": {
      "text/plain": [
       "array([[4.91154459e-05]])"
      ]
     },
     "execution_count": 22,
     "metadata": {},
     "output_type": "execute_result"
    }
   ],
   "source": [
    "model.coef_"
   ]
  },
  {
   "cell_type": "code",
   "execution_count": 23,
   "metadata": {},
   "outputs": [],
   "source": [
    "# Make a prediction for Cyprus"
   ]
  },
  {
   "cell_type": "code",
   "execution_count": 24,
   "metadata": {},
   "outputs": [],
   "source": [
    "X_new = [[22587]]  # Cyprus's GDP per capita"
   ]
  },
  {
   "cell_type": "code",
   "execution_count": 25,
   "metadata": {},
   "outputs": [
    {
     "name": "stdout",
     "output_type": "stream",
     "text": [
      "[[5.96242338]]\n"
     ]
    }
   ],
   "source": [
    "print(model.predict(X_new))"
   ]
  },
  {
   "cell_type": "code",
   "execution_count": 26,
   "metadata": {},
   "outputs": [
    {
     "data": {
      "text/plain": [
       "1.1093705765433"
      ]
     },
     "execution_count": 26,
     "metadata": {},
     "output_type": "execute_result"
    }
   ],
   "source": [
    "22587 * 4.91154459e-05"
   ]
  },
  {
   "cell_type": "code",
   "execution_count": 27,
   "metadata": {},
   "outputs": [],
   "source": [
    "# model.get_params"
   ]
  },
  {
   "cell_type": "code",
   "execution_count": 28,
   "metadata": {},
   "outputs": [],
   "source": [
    "x2 = [[20000]]\n",
    "x3 = [[30000]]"
   ]
  },
  {
   "cell_type": "code",
   "execution_count": 29,
   "metadata": {},
   "outputs": [],
   "source": [
    "y2 = model.predict(x2)\n",
    "y3 = model.predict(x3)"
   ]
  },
  {
   "cell_type": "code",
   "execution_count": 30,
   "metadata": {},
   "outputs": [
    {
     "data": {
      "text/plain": [
       "array([[0.49115446]])"
      ]
     },
     "execution_count": 30,
     "metadata": {},
     "output_type": "execute_result"
    }
   ],
   "source": [
    "y3 - y2"
   ]
  },
  {
   "cell_type": "code",
   "execution_count": 31,
   "metadata": {},
   "outputs": [
    {
     "data": {
      "text/plain": [
       "array([[0.49115446]])"
      ]
     },
     "execution_count": 31,
     "metadata": {},
     "output_type": "execute_result"
    }
   ],
   "source": [
    "model.coef_ * 10000"
   ]
  },
  {
   "cell_type": "code",
   "execution_count": 32,
   "metadata": {},
   "outputs": [
    {
     "data": {
      "text/plain": [
       "array([[4.8530528]])"
      ]
     },
     "execution_count": 32,
     "metadata": {},
     "output_type": "execute_result"
    }
   ],
   "source": [
    "b2 = y2 - 20000 * model.coef_\n",
    "b2"
   ]
  },
  {
   "cell_type": "code",
   "execution_count": 33,
   "metadata": {
    "scrolled": true
   },
   "outputs": [
    {
     "data": {
      "text/plain": [
       "array([[4.8530528]])"
      ]
     },
     "execution_count": 33,
     "metadata": {},
     "output_type": "execute_result"
    }
   ],
   "source": [
    "b3 = y3 - 30000 * model.coef_\n",
    "b3"
   ]
  },
  {
   "cell_type": "code",
   "execution_count": 34,
   "metadata": {},
   "outputs": [],
   "source": [
    "# 没有找到可以直接调出线性模型参数之截距的方法。"
   ]
  },
  {
   "cell_type": "code",
   "execution_count": null,
   "metadata": {},
   "outputs": [],
   "source": []
  },
  {
   "cell_type": "code",
   "execution_count": 35,
   "metadata": {},
   "outputs": [],
   "source": [
    "# the following is another methond or algorithm: KNN"
   ]
  },
  {
   "cell_type": "code",
   "execution_count": 36,
   "metadata": {},
   "outputs": [],
   "source": [
    "import sklearn.neighbors"
   ]
  },
  {
   "cell_type": "code",
   "execution_count": 37,
   "metadata": {},
   "outputs": [],
   "source": [
    "model_knn = sklearn.neighbors.KNeighborsRegressor(n_neighbors = 3)"
   ]
  },
  {
   "cell_type": "code",
   "execution_count": 38,
   "metadata": {},
   "outputs": [
    {
     "data": {
      "text/plain": [
       "KNeighborsRegressor(algorithm='auto', leaf_size=30, metric='minkowski',\n",
       "                    metric_params=None, n_jobs=None, n_neighbors=3, p=2,\n",
       "                    weights='uniform')"
      ]
     },
     "execution_count": 38,
     "metadata": {},
     "output_type": "execute_result"
    }
   ],
   "source": [
    "model_knn.fit(X, y)"
   ]
  },
  {
   "cell_type": "code",
   "execution_count": 39,
   "metadata": {},
   "outputs": [],
   "source": [
    "X_new = [[22587]]  # Cyprus's GDP per capita"
   ]
  },
  {
   "cell_type": "code",
   "execution_count": 40,
   "metadata": {},
   "outputs": [
    {
     "data": {
      "text/plain": [
       "array([[5.76666667]])"
      ]
     },
     "execution_count": 40,
     "metadata": {},
     "output_type": "execute_result"
    }
   ],
   "source": [
    "model_knn.predict(X_new)"
   ]
  },
  {
   "cell_type": "code",
   "execution_count": null,
   "metadata": {},
   "outputs": [],
   "source": []
  }
 ],
 "metadata": {
  "kernelspec": {
   "display_name": "Python 3",
   "language": "python",
   "name": "python3"
  },
  "language_info": {
   "codemirror_mode": {
    "name": "ipython",
    "version": 3
   },
   "file_extension": ".py",
   "mimetype": "text/x-python",
   "name": "python",
   "nbconvert_exporter": "python",
   "pygments_lexer": "ipython3",
   "version": "3.7.4"
  }
 },
 "nbformat": 4,
 "nbformat_minor": 2
}
